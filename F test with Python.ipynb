{
 "cells": [
  {
   "cell_type": "markdown",
   "id": "bdb237ef-5e42-4146-bd85-87a214225ba1",
   "metadata": {},
   "source": [
    "F test with Python"
   ]
  },
  {
   "cell_type": "code",
   "execution_count": 1,
   "id": "3f015b2e-f53e-44d2-a37d-1478bd3b544d",
   "metadata": {},
   "outputs": [],
   "source": [
    "#evidence to say that the two population varinance not equal\n",
    "worker1=[18,19,22,25,27,28,41,45,51,55]#worker produce that much of bulb in daily as well as worker2.\n",
    "worker2=[14,15,15,17,18,22,25,25,27,34]#better worker performance?"
   ]
  },
  {
   "cell_type": "code",
   "execution_count": 17,
   "id": "8105336a-274f-4747-9d56-ee9dc20c1de4",
   "metadata": {},
   "outputs": [],
   "source": [
    "#calcukating f test\n",
    "import numpy as np\n",
    "f_test_value=np.var(worker1)/np.var(worker2)"
   ]
  },
  {
   "cell_type": "code",
   "execution_count": 18,
   "id": "1afa7d9f-b5ab-44e7-a338-6d05679606c3",
   "metadata": {},
   "outputs": [
    {
     "data": {
      "text/plain": [
       "4.387122002085506"
      ]
     },
     "execution_count": 18,
     "metadata": {},
     "output_type": "execute_result"
    }
   ],
   "source": [
    "f_test_value"
   ]
  },
  {
   "cell_type": "code",
   "execution_count": 19,
   "id": "322ed469-7dc3-44ed-a3ec-c07e4ccdd927",
   "metadata": {},
   "outputs": [],
   "source": [
    "#degree of freedom\n",
    "df1=len(worker1)-1\n",
    "df2=len(worker2)-1\n",
    "significance_value=0.05"
   ]
  },
  {
   "cell_type": "code",
   "execution_count": 20,
   "id": "2a172ae6-23da-4fc2-9768-58fe91d4ac33",
   "metadata": {},
   "outputs": [],
   "source": [
    "import scipy.stats as stat"
   ]
  },
  {
   "cell_type": "code",
   "execution_count": 21,
   "id": "fc02be35-e028-4c94-a82e-b3b2b1bc306b",
   "metadata": {},
   "outputs": [],
   "source": [
    "critical_value=stat.f.ppf(q=1-significance_value,dfn=df1,dfd=df2)#ppt gives crtical value"
   ]
  },
  {
   "cell_type": "code",
   "execution_count": 22,
   "id": "fbeb13a0-e364-4eef-9579-df96e24fc630",
   "metadata": {},
   "outputs": [
    {
     "data": {
      "text/plain": [
       "3.178893104458269"
      ]
     },
     "execution_count": 22,
     "metadata": {},
     "output_type": "execute_result"
    }
   ],
   "source": [
    "critical_value"
   ]
  },
  {
   "cell_type": "code",
   "execution_count": 23,
   "id": "347cf036-668e-40e0-98d2-c972bc5b6167",
   "metadata": {},
   "outputs": [
    {
     "name": "stdout",
     "output_type": "stream",
     "text": [
      "reject the null hypothesis\n"
     ]
    }
   ],
   "source": [
    "if f_test_value>critical_value:\n",
    "    print(\"reject the null hypothesis\")\n",
    "else:\n",
    "    print(\"we fail to reject the null hypothesis\")"
   ]
  },
  {
   "cell_type": "code",
   "execution_count": null,
   "id": "f8448d1f-827f-43ce-84e6-6b34e523509d",
   "metadata": {},
   "outputs": [],
   "source": [
    "#worker 1 performing worker 2#both the performcance is differnt,if variance same then performance is equal."
   ]
  }
 ],
 "metadata": {
  "kernelspec": {
   "display_name": "Python 3 (ipykernel)",
   "language": "python",
   "name": "python3"
  },
  "language_info": {
   "codemirror_mode": {
    "name": "ipython",
    "version": 3
   },
   "file_extension": ".py",
   "mimetype": "text/x-python",
   "name": "python",
   "nbconvert_exporter": "python",
   "pygments_lexer": "ipython3",
   "version": "3.10.8"
  }
 },
 "nbformat": 4,
 "nbformat_minor": 5
}
