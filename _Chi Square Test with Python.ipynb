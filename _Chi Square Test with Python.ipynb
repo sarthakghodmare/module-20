{
 "cells": [
  {
   "cell_type": "markdown",
   "id": "bfaf9a21-1916-45d1-9d39-07b2abd075f6",
   "metadata": {},
   "source": [
    " Chi Square Test with Python"
   ]
  },
  {
   "cell_type": "code",
   "execution_count": 1,
   "id": "6975394b-6ba4-49b2-a6a6-770d483c2516",
   "metadata": {},
   "outputs": [],
   "source": [
    "import scipy.stats as stat\n",
    "import numpy as np"
   ]
  },
  {
   "cell_type": "code",
   "execution_count": 7,
   "id": "a0795f8f-81ae-403e-ac1c-6f108f238578",
   "metadata": {},
   "outputs": [],
   "source": [
    "#no of hours student study in a weekly basis daily\n",
    "#category:mon.tue,wen,thur,fir,sat,sun.\n",
    "excepted_data=[8,6,7,9,6,9,7]\n",
    "observed_data=[7,8,6,9,9,6,7]"
   ]
  },
  {
   "cell_type": "code",
   "execution_count": 8,
   "id": "4fca835e-5198-4f49-ac45-9d623ee59bcb",
   "metadata": {},
   "outputs": [
    {
     "data": {
      "text/plain": [
       "(52, 52)"
      ]
     },
     "execution_count": 8,
     "metadata": {},
     "output_type": "execute_result"
    }
   ],
   "source": [
    "sum(excepted_data),sum(observed_data)"
   ]
  },
  {
   "cell_type": "code",
   "execution_count": 9,
   "id": "83f7eea6-2aa8-45d5-bb95-dd0f4c339e90",
   "metadata": {},
   "outputs": [],
   "source": [
    "#chi square goodness of fit\n",
    "chisquare_test_statistic,p_value=stat.chisquare(observed_data,excepted_data)"
   ]
  },
  {
   "cell_type": "code",
   "execution_count": 11,
   "id": "c6ffd89e-5859-4b5e-a6f4-4b13f0848797",
   "metadata": {},
   "outputs": [
    {
     "data": {
      "text/plain": [
       "(3.4345238095238093, 0.7526596580922865)"
      ]
     },
     "execution_count": 11,
     "metadata": {},
     "output_type": "execute_result"
    }
   ],
   "source": [
    "chisquare_test_statistic,p_value"
   ]
  },
  {
   "cell_type": "code",
   "execution_count": 19,
   "id": "17b8ce46-a78c-4bf2-ad8e-8fc905554b9a",
   "metadata": {},
   "outputs": [
    {
     "name": "stdout",
     "output_type": "stream",
     "text": [
      "6\n"
     ]
    }
   ],
   "source": [
    "#find the critical value\n",
    "significane_value=0.05\n",
    "dof=len(excepted_data)-1\n",
    "print(dof)\n",
    "critical_value=stat.chi2.ppf(1-significane_value,dof) #in ppf gives confidece interval and give dof\n"
   ]
  },
  {
   "cell_type": "code",
   "execution_count": 20,
   "id": "90465ed8-9c52-4dc0-bc76-59648a0a7eb7",
   "metadata": {},
   "outputs": [
    {
     "data": {
      "text/plain": [
       "12.591587243743977"
      ]
     },
     "execution_count": 20,
     "metadata": {},
     "output_type": "execute_result"
    }
   ],
   "source": [
    "critical_value"
   ]
  },
  {
   "cell_type": "code",
   "execution_count": 21,
   "id": "f45d972e-0cdc-4827-8ee3-a70d42edd4e2",
   "metadata": {},
   "outputs": [
    {
     "name": "stdout",
     "output_type": "stream",
     "text": [
      "accept the null hypothesis\n"
     ]
    }
   ],
   "source": [
    "if chisquare_test_statistic>critical_value:\n",
    "    print(\"reject the null hypothesis\")\n",
    "else:\n",
    "    print(\"accept the null hypothesis\")"
   ]
  },
  {
   "cell_type": "code",
   "execution_count": null,
   "id": "49fb8056-fe45-4fcb-a889-d029178d7050",
   "metadata": {},
   "outputs": [],
   "source": []
  }
 ],
 "metadata": {
  "kernelspec": {
   "display_name": "Python 3 (ipykernel)",
   "language": "python",
   "name": "python3"
  },
  "language_info": {
   "codemirror_mode": {
    "name": "ipython",
    "version": 3
   },
   "file_extension": ".py",
   "mimetype": "text/x-python",
   "name": "python",
   "nbconvert_exporter": "python",
   "pygments_lexer": "ipython3",
   "version": "3.10.8"
  }
 },
 "nbformat": 4,
 "nbformat_minor": 5
}
